{
  "nbformat": 4,
  "nbformat_minor": 0,
  "metadata": {
    "colab": {
      "name": "My First Python3 Notebook.ipynb",
      "provenance": [],
      "authorship_tag": "ABX9TyMnC/mZLvn/3ztIOYqbKANp",
      "include_colab_link": true
    },
    "kernelspec": {
      "name": "python3",
      "display_name": "Python 3"
    },
    "language_info": {
      "name": "python"
    }
  },
  "cells": [
    {
      "cell_type": "markdown",
      "metadata": {
        "id": "view-in-github",
        "colab_type": "text"
      },
      "source": [
        "<a href=\"https://colab.research.google.com/github/ysun155/Math-152/blob/main/My_First_Python3_Notebook.ipynb\" target=\"_parent\"><img src=\"https://colab.research.google.com/assets/colab-badge.svg\" alt=\"Open In Colab\"/></a>"
      ]
    },
    {
      "cell_type": "markdown",
      "source": [
        "# [Yijia Sun](https://www.google.com/search?q=cat&source=lnms&tbm=isch&sa=X&ved=2ahUKEwjp1ouSlZn1AhVWZ80KHSudD4IQ_AUoAXoECAEQAw&biw=1377&bih=1172&dpr=2#imgrc=BBEQz5BdOWu86M)"
      ],
      "metadata": {
        "id": "FfKOQ1laPZtK"
      }
    },
    {
      "cell_type": "code",
      "execution_count": 2,
      "metadata": {
        "colab": {
          "base_uri": "https://localhost:8080/"
        },
        "id": "9k0KT-ZQIlzh",
        "outputId": "5593fbfd-ea6a-4bee-aac9-95405c08ea79"
      },
      "outputs": [
        {
          "output_type": "execute_result",
          "data": {
            "text/plain": [
              "2475880078570760549798248448"
            ]
          },
          "metadata": {},
          "execution_count": 2
        }
      ],
      "source": [
        "2**91"
      ]
    },
    {
      "cell_type": "markdown",
      "source": [
        "This is a message\n"
      ],
      "metadata": {
        "id": "LYZoUStWNgxN"
      }
    },
    {
      "cell_type": "markdown",
      "source": [
        "I'm a text cell"
      ],
      "metadata": {
        "id": "OMUktf63QWSN"
      }
    },
    {
      "cell_type": "code",
      "source": [
        "3+3"
      ],
      "metadata": {
        "colab": {
          "base_uri": "https://localhost:8080/"
        },
        "id": "bp4l-nD6PBiX",
        "outputId": "cbf6678f-2de2-475c-d142-b482770232e9"
      },
      "execution_count": 4,
      "outputs": [
        {
          "output_type": "execute_result",
          "data": {
            "text/plain": [
              "6"
            ]
          },
          "metadata": {},
          "execution_count": 4
        }
      ]
    }
  ]
}